{
 "cells": [
  {
   "cell_type": "markdown",
   "metadata": {},
   "source": [
    "# Python imports"
   ]
  },
  {
   "cell_type": "code",
   "execution_count": 1,
   "metadata": {},
   "outputs": [],
   "source": [
    "import matplotlib.pyplot as plt\n",
    "# Seaborn is my preferred Matplotlib extension\n",
    "import seaborn as sns\n",
    "import numpy as np\n",
    "import sys\n",
    "import os\n",
    "\n",
    "# Set some basic seaborn parameters\n",
    "sns.set(style='whitegrid', font='serif', font_scale=2.5)\n",
    "figsize = (12, 12)"
   ]
  },
  {
   "cell_type": "markdown",
   "metadata": {},
   "source": [
    "# Introduction"
   ]
  },
  {
   "cell_type": "markdown",
   "metadata": {},
   "source": [
    "This notebook uses a 1,000-realization simulation (10 experiment realizations, 10 observations per experiment realization, 10 detector realizations per observation) of the example experiment to show how you might go about unpacking and inspecting BoloCalc outputs. Hopefully these examples and descriptions can act as a guide for more general use. Please copy and paste code from this notebook into your own! For more inforation about how to use BoloCalc, please see the user manual."
   ]
  },
  {
   "cell_type": "markdown",
   "metadata": {},
   "source": [
    "# The Unpack class"
   ]
  },
  {
   "cell_type": "markdown",
   "metadata": {},
   "source": [
    "Data can be accessed using the Unpack class, which is located in the BoloCalc/src/ directory. Its constructor doesn't take any arguments. An example object instantiation is shown below."
   ]
  },
  {
   "cell_type": "code",
   "execution_count": 2,
   "metadata": {},
   "outputs": [],
   "source": [
    "# Import unpack.py from the BoloCalc/src/ directory\n",
    "src_path = os.path.join(\"..\", \"src\")\n",
    "if src_path not in sys.path:\n",
    "    sys.path.append(src_path)\n",
    "import unpack as up\n",
    "\n",
    "# Instantiate an Unpack object\n",
    "unpack = up.Unpack()"
   ]
  },
  {
   "cell_type": "markdown",
   "metadata": {},
   "source": [
    "The unpack class has three methods and four dictionaries that you can use to access the data\n",
    "\n",
    "1. Sensitivity method: `unpack.unpack_sensitivities(experiment_directory)`\n",
    "2. Parameter vary method: `unpack.unpack_parameter_vary(experiment_directory, parameter_vary_name)`\n",
    "3. Optical power method: `unpack.unpack_optical_powers(experiment_directory)`\n",
    "4. Sensitivity output dictionary: `unpack.sens_outputs`\n",
    "5. Parameter vary input dictionary: `unpack.vary_inputs`\n",
    "6. Parameter vary output dictionary: `unpack.vary_outputs`\n",
    "7. Optical powers dictionary: `unpack.pwr_outputs`\n",
    "\n",
    "In the following two sections, we'll look at how you might go about using these methods and dictionaries to inspect the outputs of your BoloCalc simulation"
   ]
  },
  {
   "cell_type": "markdown",
   "metadata": {},
   "source": [
    "# Analyzing sensitivity outputs"
   ]
  },
  {
   "cell_type": "markdown",
   "metadata": {},
   "source": [
    "In this section, we look at examples of how to unpack and analyze BoloCalc outputs."
   ]
  },
  {
   "cell_type": "markdown",
   "metadata": {},
   "source": [
    "## Unpacking outputs"
   ]
  },
  {
   "cell_type": "markdown",
   "metadata": {},
   "source": [
    "To unpack sensitivity data from a simulated experiment, use the `unpack.unpack_sensitivities()` function, and pass it as an argument the **aboslute** path of the experiment directory. This should be the absolute path of the same directory you passed to `calcBolos.py`. For this example, we ran the `BoloCalc $ python calcBolos.py Experiments/ExampleExperiment/V0`, so we pass the abslute path for that same input directory to `unpack.unpack_sensitivities()`"
   ]
  },
  {
   "cell_type": "code",
   "execution_count": 3,
   "metadata": {},
   "outputs": [],
   "source": [
    "exp_dir = os.path.abspath(os.path.join(\n",
    "    '..', 'Experiments', 'ExampleExperiment', 'V0'))\n",
    "unpack.unpack_sensitivities(exp_dir)"
   ]
  },
  {
   "cell_type": "markdown",
   "metadata": {},
   "source": [
    "## Sensitivity dictionary structure"
   ]
  },
  {
   "cell_type": "markdown",
   "metadata": {},
   "source": [
    "**There are two types of sensitivity outputs**:\n",
    "1. Sensitivity summary data, which is a three-element array of `[median, high spread, low spread]`, where the percentiles defined in `BoloCalc/config/simulationInputs.txt` = `[low CL, high CL]` are defined by `[median - low spread, median + high spread]`\n",
    "2. All MC data, which is an array of calculated outputs for every MC realization\n",
    "\n",
    "**The sensitivity data is embedded in the layered dictionary** `unpack.sens_outputs`, which has four levels:\n",
    "\n",
    "1. First-layer key = experiment (e.g. `\"V0\"`)\n",
    "2. Second-layer keys = telescopes (e.g. `\"Tel\"`) or experiment sensitivity summary `\"Summary\"`\n",
    "3. Third-layer keys = cameras (e.g. `\"Cam\"`) or telescope sensitivity summary `\"Summary\"`\n",
    "4. Fourth-layer key = camera sensitivity summary `\"Summary\"` or all MC outputs `\"All\"`\n",
    "\n",
    "BoloCalc generates a `\"Summary\"` key at levels (2, 3, 4):\n",
    "\n",
    "2. The experiment `\"Summary\"` dictionary holds the band-combined sensitivitie summaries for that experiment's telescopes \n",
    "3. The telescope `\"Summary\"` dictionary holds the band-combined sensitivitie summaries for that telescope's cameras\n",
    "4. The camera `\"Summary\"` dictionary sensitivite summaries for each channel in that camera\n",
    "\n",
    "In contrast, BoloCalc only generates an `\"All\"` key at the camera level (4).\n",
    "\n",
    "Below is a printout of the keys for the `unpack.sens_outputs` dict"
   ]
  },
  {
   "cell_type": "code",
   "execution_count": 4,
   "metadata": {},
   "outputs": [
    {
     "name": "stdout",
     "output_type": "stream",
     "text": [
      "First-layer key = experiment\n",
      "['V0']\n",
      "\n",
      "Second-layer keys = telescopes + experiment sensitivity\n",
      "['Tel', 'Summary']\n",
      "\n",
      "Third-layer keys = cameras + telescope sensitivity\n",
      "['Cam', 'Summary']\n",
      "\n",
      "Fourth-layer keys = camera sensitivity + MC outputs\n",
      "['Summary', 'All']\n"
     ]
    }
   ],
   "source": [
    "print(\"First-layer key = experiment\")\n",
    "print(list(unpack.sens_outputs.keys()))\n",
    "\n",
    "print(\"\\nSecond-layer keys = telescopes + experiment sensitivity\")\n",
    "print(list(unpack.sens_outputs['V0'].keys()))\n",
    "\n",
    "print(\"\\nThird-layer keys = cameras + telescope sensitivity\")\n",
    "print(list(unpack.sens_outputs['V0']['Tel']))\n",
    "\n",
    "print(\"\\nFourth-layer keys = camera sensitivity + MC outputs\")\n",
    "print(list(unpack.sens_outputs['V0']['Tel']['Cam'].keys()))"
   ]
  },
  {
   "cell_type": "markdown",
   "metadata": {},
   "source": [
    "## Accessing sensitivity summary data"
   ]
  },
  {
   "cell_type": "markdown",
   "metadata": {},
   "source": [
    "**Each `\"Summary\"` and `\"All\"` key points to a dictionary of the following structure**\n",
    "\n",
    "1. First-layer key: channel name (e.g. \"Cam_1\") or \"Total\" for all channels\n",
    "2. Second-layer key: sensitivity parameter name (e.g. \"Array NET_CMB\")\n",
    "\n",
    "For the `\"Summary\"` key, the second-layer value is an array of three values: `[median, high spread, low spread]`. If the low and high spreads are zero, then this output parameter remained unchanged throughout the MC simulation. For the `\"All\"` key, the second-layer value is an array of all MC-generated outputs.\n",
    "\n",
    "**`\"Summary\"` and `\"All\"` keys for the experiment and telescope sensitivity sub-dictionaries**\n",
    "1. `Num Det` = number of detectors\n",
    "2. `Array NET_CMB` = array noise-equivalent CMB temperature in `[uK_CMB-rts]`\n",
    "3. `Array NET_RJ` = array noise-equivalent RJ temperature in `[uK_RJ-rts]`\n",
    "4. `CMB Map Depth` = map depth in `[uK_CMB-amin]`\n",
    "5. `RJ Map Depth` = map depth in `[uK_RJ-amin]`\n",
    "\n",
    "**`\"Summary\"` and `\"All\"` keys for the camera sensitivity sub-dictionaries**\n",
    "1. `Num Det` = number of detectors\n",
    "2. `Optical Throughput` = optical throughput, withOUT the aperture stop efficiency divided out\n",
    "3. `Optical Power` = optical power in `[pW]`\n",
    "4. `Telescope Temp` = telescope temperature, referenced to the instrument's first optic, in `[K_RJ]`\n",
    "5. `Sky Temp` = sky temperature in `[K_RJ]`\n",
    "6. `Photon NEP` = photon noise-equivalent power in `[aW/rtHz]`\n",
    "7. `Bolometer NEP` = bolometer thermal carrier noise-equivalent power in `[aW/rtHz]`\n",
    "8. `Readout NEP` = readout noise-equivalent power in `[aW/rtHz]`\n",
    "9. `Detector NEP` = total detector noise-equivalent power in `[aW/rtHz]`\n",
    "10. `Detector NET_CMB` = per-detector noise-equivalent CMB temperature in `[uK_CMB-rts]`\n",
    "11. `Detector NET_RJ` = per-detector noise-equivalent CMB temperature in `[uK_RJ-rts]`\n",
    "12. `Array NET_CMB` = array noise-equivalent CMB temperature in `[uK_CMB-rts]`\n",
    "13. `Array NET_RJ` = array noise-equivalent RJ temperature in `[uK_RJ-rts]`\n",
    "14. `Correlation Factor` = degree of white-noise correlation across the focal plane\n",
    "15. `CMB Map Depth` = map depth in `[uK_CMB-amin]`\n",
    "16. `RJ Map Depth` = map depth in `[uK_RJ-amin]`\n",
    "\n",
    "Below is a printout of the various keys at each level. Note that for the camera sensitivity dictionary, \"Total\" only has a subset of the shown parameters."
   ]
  },
  {
   "cell_type": "code",
   "execution_count": 5,
   "metadata": {},
   "outputs": [
    {
     "name": "stdout",
     "output_type": "stream",
     "text": [
      "Experiment sensitivity summary channel keys\n",
      "['Cam_1', 'Cam_2', 'Total']\n",
      "Available experiment sensitivity summary lables\n",
      "['Num Det', 'Array NET_CMB', 'Array NET_RJ', 'CMB Map Depth', 'RJ Map Depth']\n",
      "Example 'CMB Map Depth' sensitivity summary data\n",
      "[6.54, 0.61, 0.5]\n",
      "\n",
      "Telescope sensitivity summary channel keys\n",
      "['Cam_1', 'Cam_2', 'Total']\n",
      "Available telescope sensitivity summary lables\n",
      "['Num Det', 'Array NET_CMB', 'Array NET_RJ', 'CMB Map Depth', 'RJ Map Depth']\n",
      "Example 'Array NET_CMB' sensitivity summary data\n",
      "[9.36, 0.75, 0.47]\n",
      "\n",
      "Camera sensitivity summary channel keys\n",
      "['Cam_1', 'Cam_2', 'Total']\n",
      "Available camera sensitivity summary lables\n",
      "['Num Det', 'Optical Throughput', 'Optical Power', 'Telescope Temp', 'Sky Temp', 'Photon NEP', 'Bolometer NEP', 'Readout NEP', 'Detector NEP', 'Detector NET_CMB', 'Detector NET_RJ', 'Array NET_CMB', 'Array NET_RJ', 'Correlation Factor', 'CMB Map Depth', 'RJ Map Depth']\n",
      "Example 'Optical Power' sensitivity summary data\n",
      "[1.01, 0.18, 0.2]\n"
     ]
    }
   ],
   "source": [
    "print(\"Experiment sensitivity summary channel keys\")\n",
    "print(list(unpack.sens_outputs['V0']['Summary'].keys()))\n",
    "\n",
    "print(\"Available experiment sensitivity summary lables\")\n",
    "print(list(unpack.sens_outputs['V0']['Tel']['Summary']['Cam_1'].keys()))\n",
    "\n",
    "print(\"Example 'CMB Map Depth' sensitivity summary data\")\n",
    "print(list(unpack.sens_outputs['V0']['Summary']['Cam_1']['CMB Map Depth']))\n",
    "\n",
    "print(\"\\nTelescope sensitivity summary channel keys\")\n",
    "print(list(unpack.sens_outputs['V0']['Tel']['Summary'].keys()))\n",
    "\n",
    "print(\"Available telescope sensitivity summary lables\")\n",
    "print(list(unpack.sens_outputs['V0']['Tel']['Summary']['Cam_1'].keys()))\n",
    "\n",
    "print(\"Example 'Array NET_CMB' sensitivity summary data\")\n",
    "print(list(unpack.sens_outputs['V0']['Tel']['Summary']['Cam_1']['Array NET_CMB']))\n",
    "\n",
    "print(\"\\nCamera sensitivity summary channel keys\")\n",
    "print(list(unpack.sens_outputs['V0']['Tel']['Cam']['Summary'].keys()))\n",
    "\n",
    "print(\"Available camera sensitivity summary lables\")\n",
    "print(list(unpack.sens_outputs['V0']['Tel']['Cam']['Summary']['Cam_1'].keys()))\n",
    "\n",
    "print(\"Example 'Optical Power' sensitivity summary data\")\n",
    "print(list(unpack.sens_outputs['V0']['Tel']['Cam']['Summary']['Cam_1']['Optical Power']))"
   ]
  },
  {
   "cell_type": "markdown",
   "metadata": {},
   "source": [
    "### Output parameter labels and units"
   ]
  },
  {
   "cell_type": "markdown",
   "metadata": {},
   "source": [
    "Units are not automatically imported by the Unpack class from the sensitivity files, as I usually write them using latex in my plots anyway. Additionally, the dictionary keys aren't perfect labels for plots and tables. For the user's convenience, I've included a unit dictionary and label dictionary below that can be used when generating tables and plots"
   ]
  },
  {
   "cell_type": "code",
   "execution_count": 6,
   "metadata": {},
   "outputs": [],
   "source": [
    "unit_dict = {\n",
    "    'Num Det': '[NA]',\n",
    "    'Optical Throughput': '[NA]',\n",
    "    'Optical Power': '[pW]',\n",
    "    'Telescope Temp': '[$\\mathrm{K_{RJ}}$]',\n",
    "    'Sky Temp': '[$\\mathrm{K_{RJ}}$]',\n",
    "    'Photon NEP': '[$\\mathrm{aW / \\sqrt{Hz}}$]',\n",
    "    'Bolometer NEP': '[$\\mathrm{aW / \\sqrt{Hz}}$]',\n",
    "    'Readout NEP': '[$\\mathrm{aW / \\sqrt{Hz}}$]',\n",
    "    'Detector NEP': '[$\\mathrm{aW / \\sqrt{Hz}}$]',\n",
    "    'Detector NET_CMB': '[$\\mathrm{\\mu K_{CMB} \\sqrt{s}}$]',\n",
    "    'Detector NET_RJ': '[$\\mathrm{\\mu K_{RJ} \\sqrt{s}}$]',\n",
    "    'Array NET_CMB': '[$\\mathrm{\\mu K_{CMB} \\sqrt{s}}$]',\n",
    "    'Array NET_RJ': '[$\\mathrm{\\mu K_{RJ} \\sqrt{s}}$]',\n",
    "    'Correlation Factor': '[NA]',\n",
    "    'CMB Map Depth': '[$\\mathrm{\\mu K_{CMB} \\; amin}$]',\n",
    "    'RJ Map Depth': '[$\\mathrm{\\mu K_{RJ} \\; amin}$]'}\n",
    "\n",
    "label_dict = {\n",
    "    'Num Det': '$\\mathrm{N_{Det}}$',\n",
    "    'Optical Throughput': '$\\mathrm{\\eta_{opt}}$',\n",
    "    'Optical Power': '$\\mathrm{P_{opt}}$',\n",
    "    'Telescope Temp': '$\\mathrm{T_{Tel}}$',\n",
    "    'Sky Temp': '$\\mathrm{T_{Sky}}$',\n",
    "    'Photon NEP': '$\\mathrm{NEP_{ph}}$',\n",
    "    'Bolometer NEP': '$\\mathrm{NEP_{g}}$',\n",
    "    'Readout NEP': '$\\mathrm{NEP_{read}}$',\n",
    "    'Detector NEP': '$\\mathrm{NEP_{det}}$',\n",
    "    'Detector NET_CMB': '$\\mathrm{NET_{det}}$',\n",
    "    'Detector NET_RJ': '$\\mathrm{NET_{det}}$',\n",
    "    'Array NET_CMB': '$\\mathrm{NET_{arr}}$',\n",
    "    'Array NET_RJ': '$\\mathrm{NET_{arr}}$',\n",
    "    'Correlation Factor': '$\\mathrm{\\Gamma_{corr}}$',\n",
    "    'CMB Map Depth': '$\\mathrm{\\sigma_{map}}$',\n",
    "    'RJ Map Depth': '$\\mathrm{\\sigma_{map}}$'}"
   ]
  },
  {
   "cell_type": "markdown",
   "metadata": {},
   "source": [
    "## Accessing MC output data"
   ]
  },
  {
   "cell_type": "markdown",
   "metadata": {},
   "source": [
    "**At each `\"All\"` key is a dictionary of the following structure**\n",
    "\n",
    "1. First-layer key: channel name (e.g. \"Cam_1\")\n",
    "2. Second-layer key: sensitivity parameter name (e.g. \"Array NET_CMB\")\n",
    "\n",
    "The second-layer value is an sim-time-sorted array of MC-realized values. The length of the array will match the total number of realizations (Experiment realizations x Observations x Detector realizations) generated by the MC.\n",
    "\n",
    "Below is a printout of the various keys at each level."
   ]
  },
  {
   "cell_type": "code",
   "execution_count": 7,
   "metadata": {},
   "outputs": [
    {
     "name": "stdout",
     "output_type": "stream",
     "text": [
      "Camera output channel keys\n",
      "['Cam_1', 'Cam_2']\n",
      "Available camera sensitivity lables\n",
      "['Optical Throughput', 'Optical Power', 'Telescope Temp', 'Sky Temp', 'Photon NEP', 'Bolometer NEP', 'Readout NEP', 'Detector NEP', 'Detector NET_CMB', 'Detector NET_RJ', 'Array NET_CMB', 'Array NET_RJ', 'Correlation Factor', 'CMB Map Depth', 'RJ Map Depth']\n",
      "Example 'Optical Power' sensitivity data\n",
      "[0.6872, 1.0079, 1.0313, 1.1411, 0.6881, 1.0635, 1.1269, 0.9645, 1.0065, 1.3433, 0.6712, 1.0319, 1.0187, 1.0787, 0.6797, 1.0635, 1.1269, 0.9853, 0.9963, 1.3171, 0.6964, 1.0079, 1.0187, 1.1261, 0.6722, 1.0755, 1.1269, 0.9645, 1.0178, 1.3585, 0.6788, 1.0193, 0.9876, 1.0889, 0.6653, 1.1034, 1.1812, 0.9974, 1.0065, 1.3433, 0.6644, 1.0458, 0.997, 1.0889, 0.6797, 1.0887, 1.1269, 0.9853, 0.9963, 1.3752, 0.6964, 1.0193, 1.0187, 1.0889, 0.6653, 1.0755, 1.1385, 0.9645, 0.9963, 1.3752, 0.6872, 1.0079, 1.0452, 1.0787, 0.6881, 1.0428, 1.1269, 0.9744, 1.0065, 1.3752, 0.6582, 1.0319, 1.0313, 1.1124, 0.6591, 1.0755, 1.1269, 0.9974, 1.0303, 1.3296, 0.6644, 1.0319, 0.9876, 1.1001, 0.6653, 1.0635, 1.1655, 0.9974, 1.0178, 1.3937, 0.6964, 1.0458, 1.0073, 1.1411, 0.6722, 1.0527, 1.1812, 0.9974, 0.9963, 1.3433]\n"
     ]
    }
   ],
   "source": [
    "print(\"Camera output channel keys\")\n",
    "print(list(unpack.sens_outputs['V0']['Tel']['Cam']['All'].keys()))\n",
    "\n",
    "print(\"Available camera sensitivity lables\")\n",
    "print(list(unpack.sens_outputs['V0']['Tel']['Cam']['All']['Cam_1'].keys()))\n",
    "\n",
    "print(\"Example 'Optical Power' sensitivity data\")\n",
    "print(list(unpack.sens_outputs['V0']['Tel']['Cam']['All']['Cam_1']['Optical Power'][:100]))"
   ]
  },
  {
   "cell_type": "markdown",
   "metadata": {},
   "source": [
    "## Example sensitivity tables"
   ]
  },
  {
   "cell_type": "markdown",
   "metadata": {},
   "source": [
    "The most common use for BoloCalc is to generate tables of outputs. These tables are contained in ASCII format within the raw `sensitivity.txt` files, but often times it's useful to create a more presentable, tidy table. The below example code shows how one might generate iPython-friendly tables for experiment, telescope, and camera sensitivities."
   ]
  },
  {
   "cell_type": "code",
   "execution_count": 8,
   "metadata": {},
   "outputs": [],
   "source": [
    "# Define a method to convert \n",
    "# [median, hi +/- value, low +/- value]\n",
    "# in a displayable string\n",
    "def spread(inp_str):\n",
    "    mean, lo, hi = inp_str\n",
    "    if (float(lo) == 0) and (float(hi) == 0):\n",
    "        output_str = \"%g\" % (mean)\n",
    "    else:\n",
    "        output_str = \"%g +/- (%g, %g)\" % (mean, hi, lo)\n",
    "    return output_str"
   ]
  },
  {
   "cell_type": "markdown",
   "metadata": {},
   "source": [
    "### Experiment sensitivity table"
   ]
  },
  {
   "cell_type": "code",
   "execution_count": 9,
   "metadata": {},
   "outputs": [
    {
     "name": "stdout",
     "output_type": "stream",
     "text": [
      "Copy and paste the below into a separate markdown cell to render the table\n",
      "\n",
      "\n",
      "Channel|$\\mathrm{N_{Det}}$|$\\mathrm{NET_{arr}}$|$\\mathrm{NET_{arr}}$|$\\mathrm{\\sigma_{map}}$|$\\mathrm{\\sigma_{map}}$\n",
      "---|---|---|---|---|---\n",
      "Units|[NA]|[$\\mathrm{\\mu K_{CMB} \\sqrt{s}}$]|[$\\mathrm{\\mu K_{RJ} \\sqrt{s}}$]|[$\\mathrm{\\mu K_{CMB} \\; amin}$]|[$\\mathrm{\\mu K_{RJ} \\; amin}$]\n",
      "Cam_1|1626|9.36 +/- (0.47, 0.75)|7.43 +/- (0.38, 0.6)|6.54 +/- (0.5, 0.61)|5.2 +/- (0.4, 0.48)\n",
      "Cam_2|1626|8.41 +/- (0.55, 0.95)|4.85 +/- (0.32, 0.55)|5.86 +/- (0.49, 0.68)|3.38 +/- (0.28, 0.39)\n",
      "Total|3252|6.25 +/- (0.36, 0.59)|4.06 +/- (0.24, 0.4)|4.37 +/- (0.35, 0.45)|2.83 +/- (0.23, 0.3)\n",
      "\n"
     ]
    }
   ],
   "source": [
    "# Load the sensitivity from the experiment \n",
    "# layer of the sensitivity output dictionary\n",
    "exp_dict = unpack.sens_outputs['V0']['Summary']\n",
    "\n",
    "# Labels for the parameters \n",
    "# (e.g. \"Channel,\" \"Optical Throughout,\" \"Readout NEP,\" etc.)\n",
    "param_row = ['Channel'] + [label_dict[k]\n",
    "                           for k in list(exp_dict[\n",
    "                               list(exp_dict.keys())[0]].keys())]\n",
    "unit_row = ['Units'] + [unit_dict[k]\n",
    "                        for k in list(exp_dict[\n",
    "                            list(exp_dict.keys())[0]].keys())]\n",
    "header_sep = ['---'] * len(param_row)\n",
    "# Labels for the data rows, which should be the channel names and \"Total\"\n",
    "ch_labs = [[lab for lab in list(exp_dict.keys())]]\n",
    "# Data to populate the rows\n",
    "data_rows = np.concatenate([\n",
    "    np.transpose(ch_labs),\n",
    "    [[spread(v[k])\n",
    "      for k in list(v.keys())]\n",
    "      for v in list(exp_dict.values())]], axis=-1).tolist()\n",
    "# Generate table string\n",
    "table_rows = [param_row, header_sep, unit_row]  + data_rows\n",
    "table_str = \"\"\n",
    "for row in table_rows:\n",
    "    row_str = '|'.join(row)+'\\n'\n",
    "    table_str += row_str\n",
    "print(\"Copy and paste the below into a separate markdown \"\n",
    "      \"cell to render the table\\n\\n\")\n",
    "print(table_str)"
   ]
  },
  {
   "cell_type": "markdown",
   "metadata": {},
   "source": [
    "Channel|$\\mathrm{N_{Det}}$|$\\mathrm{NET_{arr}}$|$\\mathrm{NET_{arr}}$|$\\mathrm{\\sigma_{map}}$|$\\mathrm{\\sigma_{map}}$\n",
    "---|---|---|---|---|---\n",
    "Units|[NA]|[$\\mathrm{\\mu K_{CMB} \\sqrt{s}}$]|[$\\mathrm{\\mu K_{RJ} \\sqrt{s}}$]|[$\\mathrm{\\mu K_{CMB} \\; amin}$]|[$\\mathrm{\\mu K_{RJ} \\; amin}$]\n",
    "Cam_1|1626|13.49 +/- (0.47, 0.64)|10.71 +/- (0.37, 0.51)|9.52 +/- (0.83, 0.49)|7.56 +/- (0.66, 0.39)\n",
    "Cam_2|1626|15.41 +/- (0.83, 1.35)|8.88 +/- (0.48, 0.78)|10.83 +/- (1.13, 0.98)|6.24 +/- (0.65, 0.56)\n",
    "Total|3252|10.15 +/- (0.41, 0.58)|6.84 +/- (0.29, 0.42)|7.15 +/- (0.67, 0.43)|4.81 +/- (0.46, 0.32)"
   ]
  },
  {
   "cell_type": "markdown",
   "metadata": {},
   "source": [
    "### Telescope sensitivity table"
   ]
  },
  {
   "cell_type": "code",
   "execution_count": 10,
   "metadata": {},
   "outputs": [
    {
     "name": "stdout",
     "output_type": "stream",
     "text": [
      "Copy and paste the below into a separate markdown cell to render the table\n",
      "\n",
      "\n",
      "Channel|$\\mathrm{N_{Det}}$|$\\mathrm{NET_{arr}}$|$\\mathrm{NET_{arr}}$|$\\mathrm{\\sigma_{map}}$|$\\mathrm{\\sigma_{map}}$\n",
      "---|---|---|---|---|---\n",
      "Units|[NA]|[$\\mathrm{\\mu K_{CMB} \\sqrt{s}}$]|[$\\mathrm{\\mu K_{RJ} \\sqrt{s}}$]|[$\\mathrm{\\mu K_{CMB} \\; amin}$]|[$\\mathrm{\\mu K_{RJ} \\; amin}$]\n",
      "Cam_1|1626|9.36 +/- (0.47, 0.75)|7.43 +/- (0.38, 0.6)|6.54 +/- (0.5, 0.61)|5.2 +/- (0.4, 0.48)\n",
      "Cam_2|1626|8.41 +/- (0.55, 0.95)|4.85 +/- (0.32, 0.55)|5.86 +/- (0.49, 0.68)|3.38 +/- (0.28, 0.39)\n",
      "Total|3252|6.25 +/- (0.36, 0.59)|4.06 +/- (0.24, 0.4)|4.37 +/- (0.35, 0.45)|2.83 +/- (0.23, 0.3)\n",
      "\n"
     ]
    }
   ],
   "source": [
    "# Load the sensitivity from the telescope \n",
    "# layer of the sensitivity output dictionary\n",
    "exp_dict = unpack.sens_outputs['V0']['Tel']['Summary']\n",
    "\n",
    "# Labels for the parameters \n",
    "# (e.g. \"Channel,\" \"Optical Throughout,\" \"Readout NEP,\" etc.)\n",
    "param_row = ['Channel'] + [\n",
    "    label_dict[k] for k in list(\n",
    "        exp_dict[list(exp_dict.keys())[0]].keys())]\n",
    "unit_row = ['Units'] + [\n",
    "    unit_dict[k] for k in list(exp_dict[list(\n",
    "        exp_dict.keys())[0]].keys())]\n",
    "header_sep = ['---'] * len(param_row)\n",
    "# Labels for the data rows, which should be the channel names and \"Total\"\n",
    "ch_labs = [[lab for lab in list(exp_dict.keys())]]\n",
    "# Data to populate the rows\n",
    "data_rows = np.concatenate([\n",
    "    np.transpose(ch_labs), \n",
    "    [[spread(v[k]) \n",
    "      for k in list(v.keys())]\n",
    "      for v in list(exp_dict.values())]], axis=-1).tolist()\n",
    "# Generate table string\n",
    "table_rows = [param_row, header_sep, unit_row]  + data_rows\n",
    "table_str = \"\"\n",
    "for row in table_rows:\n",
    "    row_str = '|'.join(row)+'\\n'\n",
    "    table_str += row_str\n",
    "print(\"Copy and paste the below into a separate markdown \"\n",
    "      \"cell to render the table\\n\\n\")\n",
    "print(table_str)"
   ]
  },
  {
   "cell_type": "markdown",
   "metadata": {},
   "source": [
    "Channel|$\\mathrm{N_{Det}}$|$\\mathrm{NET_{arr}}$|$\\mathrm{NET_{arr}}$|$\\mathrm{\\sigma_{map}}$|$\\mathrm{\\sigma_{map}}$\n",
    "---|---|---|---|---|---\n",
    "Units|[NA]|[$\\mathrm{\\mu K_{CMB} \\sqrt{s}}$]|[$\\mathrm{\\mu K_{RJ} \\sqrt{s}}$]|[$\\mathrm{\\mu K_{CMB} \\; amin}$]|[$\\mathrm{\\mu K_{RJ} \\; amin}$]\n",
    "Cam_1|1626|13.49 +/- (0.47, 0.64)|10.71 +/- (0.37, 0.51)|9.52 +/- (0.83, 0.49)|7.56 +/- (0.66, 0.39)\n",
    "Cam_2|1626|15.41 +/- (0.83, 1.35)|8.88 +/- (0.48, 0.78)|10.83 +/- (1.13, 0.98)|6.24 +/- (0.65, 0.56)\n",
    "Total|3252|10.15 +/- (0.41, 0.58)|6.84 +/- (0.29, 0.42)|7.15 +/- (0.67, 0.43)|4.81 +/- (0.46, 0.32)\n"
   ]
  },
  {
   "cell_type": "markdown",
   "metadata": {},
   "source": [
    "### Camera sensitivity table"
   ]
  },
  {
   "cell_type": "code",
   "execution_count": 11,
   "metadata": {},
   "outputs": [
    {
     "name": "stdout",
     "output_type": "stream",
     "text": [
      "Copy and paste the below into a separate markdown cell to render the table\n",
      "\n",
      "\n",
      "Channel|$\\mathrm{N_{Det}}$|$\\mathrm{\\eta_{opt}}$|$\\mathrm{P_{opt}}$|$\\mathrm{T_{Tel}}$|$\\mathrm{T_{Sky}}$|$\\mathrm{NEP_{ph}}$|$\\mathrm{NEP_{g}}$|$\\mathrm{NEP_{read}}$|$\\mathrm{NEP_{det}}$|$\\mathrm{NET_{det}}$|$\\mathrm{NET_{det}}$|$\\mathrm{NET_{arr}}$|$\\mathrm{NET_{arr}}$|$\\mathrm{\\Gamma_{corr}}$|$\\mathrm{\\sigma_{map}}$|$\\mathrm{\\sigma_{map}}$\n",
      "---|---|---|---|---|---|---|---|---|---|---|---|---|---|---|---|---\n",
      "Units|[NA]|[NA]|[pW]|[$\\mathrm{K_{RJ}}$]|[$\\mathrm{K_{RJ}}$]|[$\\mathrm{aW / \\sqrt{Hz}}$]|[$\\mathrm{aW / \\sqrt{Hz}}$]|[$\\mathrm{aW / \\sqrt{Hz}}$]|[$\\mathrm{aW / \\sqrt{Hz}}$]|[$\\mathrm{\\mu K_{CMB} \\sqrt{s}}$]|[$\\mathrm{\\mu K_{RJ} \\sqrt{s}}$]|[$\\mathrm{\\mu K_{CMB} \\sqrt{s}}$]|[$\\mathrm{\\mu K_{RJ} \\sqrt{s}}$]|[NA]|[$\\mathrm{\\mu K_{CMB} \\; amin}$]|[$\\mathrm{\\mu K_{RJ} \\; amin}$]\n",
      "Cam_1|1626|0.12 +/- (0.021, 0.021)|1.01 +/- (0.2, 0.18)|9.5 +/- (0.06, 0.06)|9.68 +/- (0.33, 0.39)|13.31 +/- (1.73, 1.57)|8.05 +/- (0.82, 0.7)|7.13 +/- (0.87, 0.78)|17.11 +/- (2.1, 1.88)|285.2 +/- (17.3, 26.6)|226.5 +/- (13.76, 21.12)|9.36 +/- (0.47, 0.75)|7.43 +/- (0.38, 0.6)|1.11 +/- (0.016, 0.013)|6.54 +/- (0.5, 0.61)|5.2 +/- (0.4, 0.48)\n",
      "Cam_2|1626|0.28 +/- (0.075, 0.009)|2.65 +/- (0.69, 0.14)|10.8 +/- (0.05, 0.06)|4.7 +/- (0.2, 0.12)|29.09 +/- (5.3, 1.06)|13.05 +/- (1.82, 0.34)|20.11 +/- (3.03, 3.61)|37.06 +/- (4.52, 3.68)|281.7 +/- (18.6, 32.4)|162.3 +/- (10.74, 18.66)|8.41 +/- (0.55, 0.95)|4.85 +/- (0.32, 0.55)|1.01 +/- (0.001, 0.001)|5.86 +/- (0.49, 0.68)|3.38 +/- (0.28, 0.39)\n",
      "\n"
     ]
    }
   ],
   "source": [
    "# Load the sensitivity from the telescope layer \n",
    "# of the sensitivity output dictionary\n",
    "exp_dict = unpack.sens_outputs['V0']['Tel']['Cam']['Summary']\n",
    "\n",
    "# Labels for the parameters \n",
    "# (e.g. \"Channel,\" \"Optical Throughout,\" \"Readout NEP,\" etc.)\n",
    "param_row = ['Channel'] + [\n",
    "    label_dict[k] for k in list(\n",
    "        exp_dict[list(exp_dict.keys())[0]].keys())]\n",
    "unit_row = ['Units'] + [\n",
    "    unit_dict[k] for k in list(exp_dict[list(\n",
    "        exp_dict.keys())[0]].keys())]\n",
    "header_sep = ['---'] * len(param_row)\n",
    "# Labels for the data rows, which should be the channel names\n",
    "# For the camera table, the \"Total\" row must be handled separately\n",
    "ch_labs = [[lab for lab in list(exp_dict.keys())][:-1]]\n",
    "# Data to populate the rows\n",
    "data_rows = np.concatenate([\n",
    "    np.transpose(ch_labs), \n",
    "    [[spread(v[k]) \n",
    "      for k in list(v.keys())]\n",
    "      for v in list(exp_dict.values())][:-1]], axis=-1).tolist()\n",
    "\n",
    "# Generate table string\n",
    "table_rows = [param_row, header_sep, unit_row]  + data_rows\n",
    "table_str = \"\"\n",
    "for row in table_rows:\n",
    "    row_str = '|'.join(row)+'\\n'\n",
    "    table_str += row_str\n",
    "print(\"Copy and paste the below into a separate markdown \"\n",
    "      \"cell to render the table\\n\\n\")\n",
    "print(table_str)"
   ]
  },
  {
   "cell_type": "markdown",
   "metadata": {},
   "source": [
    "Channel|$\\mathrm{N_{Det}}$|$\\mathrm{\\eta_{opt}}$|$\\mathrm{P_{opt}}$|$\\mathrm{T_{Tel}}$]|$\\mathrm{T_{Sky}}$|$\\mathrm{NEP_{ph}}$|$\\mathrm{NEP_{g}}$|$\\mathrm{NEP_{read}}$|$\\mathrm{NEP_{det}}$|$\\mathrm{NET_{det}}$|$\\mathrm{NET_{det}}$|$\\mathrm{NET_{arr}}$|$\\mathrm{NET_{arr}}$|$\\mathrm{\\Gamma_{corr}}$|$\\mathrm{\\sigma_{map}}$|$\\mathrm{\\sigma_{map}}$\n",
    "---|---|---|---|---|---|---|---|---|---|---|---|---|---|---|---|---\n",
    "Units|[NA]|[NA]|[pW]|[$\\mathrm{K_{RJ}}$]|[$\\mathrm{K_{RJ}}$]|[$\\mathrm{aW / \\sqrt{Hz}}$]|[$\\mathrm{aW / \\sqrt{Hz}}$]|[$\\mathrm{aW / \\sqrt{Hz}}$]|[$\\mathrm{aW / \\sqrt{Hz}}$]|[$\\mathrm{\\mu K_{CMB} \\sqrt{s}}$]|[$\\mathrm{\\mu K_{RJ} \\sqrt{s}}$]|[$\\mathrm{\\mu K_{CMB} \\sqrt{s}}$]|[$\\mathrm{\\mu K_{RJ} \\sqrt{s}}$]|[NA]|[$\\mathrm{\\mu K_{CMB} \\; amin}$]|[$\\mathrm{\\mu K_{RJ} \\; amin}$]\n",
    "Cam_1|1626|0.117 +/- (0.02, 0.019)|1.62 +/- (0.31, 0.24)|21.68 +/- (0.35, 0.21)|9.69 +/- (0.35, 0.38)|18.56 +/- (2.56, 1.99)|10.19 +/- (1.01, 0.74)|9.71 +/- (1.25, 0.97)|23.3 +/- (3, 2.32)|396.1 +/- (18.6, 25.6)|314.6 +/- (14.76, 20.35)|13.49 +/- (0.47, 0.64)|10.71 +/- (0.37, 0.51)|1.15 +/- (0.02, 0.013)|9.52 +/- (0.83, 0.49)|7.56 +/- (0.66, 0.39)\n",
    "Cam_2|1626|0.229 +/- (0.039, 0.038)|5.35 +/- (0.98, 0.88)|32.8 +/- (0.55, 0.44)|4.6 +/- (0.1, 0.21)|48.59 +/- (6.97, 6.11)|18.53 +/- (1.79, 1.46)|30.26 +/- (6.35, 4.9)|61.79 +/- (11.5, 6.34)|513.3 +/- (28.3, 46.2)|295.8 +/- (16.29, 26.61)|15.41 +/- (0.83, 1.35)|8.88 +/- (0.48, 0.78)|1.01 +/- (0.002, 0.001)|10.83 +/- (1.13, 0.98)|6.24 +/- (0.65, 0.56)"
   ]
  },
  {
   "cell_type": "markdown",
   "metadata": {},
   "source": [
    "## Example sensitivity histograms"
   ]
  },
  {
   "cell_type": "markdown",
   "metadata": {},
   "source": [
    "In addition to presenting the median +/- (hi spread, lo spread) in tables, you can inspect the full output of running the MC realizations of the experiment, sky, and detectors. Below are some example histograms created from those full outputs using matplotlib and seaborn"
   ]
  },
  {
   "cell_type": "markdown",
   "metadata": {},
   "source": [
    "### Optical power histogram"
   ]
  },
  {
   "cell_type": "markdown",
   "metadata": {},
   "source": [
    "Let's overplot histograms of the optical power from the two frequency channels in ExampleExperiment's Tel + Cam camera. "
   ]
  },
  {
   "cell_type": "code",
   "execution_count": 12,
   "metadata": {},
   "outputs": [],
   "source": [
    "# Load the optical power output from the MC simulation\n",
    "cam_1 = unpack.sens_outputs['V0']['Tel']['Cam']['All']['Cam_1']['Optical Power']\n",
    "cam_2 = unpack.sens_outputs['V0']['Tel']['Cam']['All']['Cam_2']['Optical Power']"
   ]
  },
  {
   "cell_type": "code",
   "execution_count": 13,
   "metadata": {},
   "outputs": [
    {
     "data": {
      "image/png": "[encoded data removed]",
      "text/plain": [
       "<Figure size 864x864 with 1 Axes>"
      ]
     },
     "metadata": {
      "needs_background": "light"
     },
     "output_type": "display_data"
    }
   ],
   "source": [
    "bins = np.linspace(0.5, 9, 36)\n",
    "plt.figure(figsize=figsize)\n",
    "sns.distplot(cam_1.astype(np.float), kde=False, bins=bins)\n",
    "sns.distplot(cam_2.astype(np.float), kde=False, bins=bins)\n",
    "plt.xlabel(\"Optical Power [pW]\")\n",
    "plt.ylabel(\"Number of realizations\")\n",
    "plt.show()"
   ]
  },
  {
   "cell_type": "markdown",
   "metadata": {},
   "source": [
    "### NET histogram"
   ]
  },
  {
   "cell_type": "code",
   "execution_count": 14,
   "metadata": {},
   "outputs": [],
   "source": [
    "# Load the NET output from the MC simulation\n",
    "cam_1 = unpack.sens_outputs['V0']['Tel']['Cam']['All']['Cam_1']['Detector NET_CMB']\n",
    "cam_2 = unpack.sens_outputs['V0']['Tel']['Cam']['All']['Cam_2']['Detector NET_CMB']"
   ]
  },
  {
   "cell_type": "code",
   "execution_count": 15,
   "metadata": {},
   "outputs": [
    {
     "data": {
      "image/png": "[encoded data removed]",
      "text/plain": [
       "<Figure size 864x864 with 1 Axes>"
      ]
     },
     "metadata": {
      "needs_background": "light"
     },
     "output_type": "display_data"
    }
   ],
   "source": [
    "bins = np.linspace(300, 800, 35)\n",
    "plt.figure(figsize=figsize)\n",
    "sns.distplot(cam_1.astype(np.float), kde=False, bins=bins)\n",
    "sns.distplot(cam_2.astype(np.float), kde=False, bins=bins)\n",
    "plt.xlabel(\"Detector NET [uK_CMB-rts]\")\n",
    "plt.ylabel(\"Number of realizations\")\n",
    "plt.show()"
   ]
  },
  {
   "cell_type": "markdown",
   "metadata": {},
   "source": [
    "# Analyzing parameter variation outputs"
   ]
  },
  {
   "cell_type": "markdown",
   "metadata": {},
   "source": [
    "Analyzing the outputs of a parameter variation is similar to analyzing the sensitivity outputs, as discussed in the previous section, which we recommend you read before delving into this section."
   ]
  },
  {
   "cell_type": "markdown",
   "metadata": {},
   "source": [
    "## Unpacking outputs"
   ]
  },
  {
   "cell_type": "markdown",
   "metadata": {},
   "source": [
    "After running your parameter variation simulation, you will unpack the parameter variation outputs using the method `unpack.unpack_parameter_vary(experiment_directory, parameter_variation_name)`, which creates a dictionary of input parameters `unpack.vary_inputs` and a dictionary of output parameters `unpack.vary_outputs`.\n",
    "\n",
    "The `experiment_directory` argument needs to match the input experiment passed to `calcBolos.py`, and the `parameter_variation_name` either needs to match the passed `calcBolos.py` command-line argument `--vary_name`, or it must match whichever `Tel/Cam/paramVary/` directory name you want to analyze. If `--vary_name` is not specified, BoloCalc generates a file with the format `yyyymmdd_hh_mm_ss`, where `yyyymmdd` is the date, `hh` is the hour (0-23), `mm` is the minute, and `ss` is the second at which `calcBolos.py` was executed. \n",
    "\n",
    "The parameters to vary are defined in `BoloCalc/config/paramsToVary.txt`, and more information regarding this file can be found in the BoloCalc user manual. For the following examples, we use the default parameter variation for `ExampleExperiment/V0`, which is over `Psat` and `Det Eff` for frequency channel `Cam_2`. Also, as defined `BoloCalc/src/simInputs.txt`, we calculate, for each parameter set, we evaluate 10 experiment realizations, each with 10 detector realizations and 10 sky realizations for a total of 1,000 MC sims. To generate the output files, we run \n",
    "\n",
    "`BoloCalc $ python calcBolos.py Experiments/ExampleExperiment/V0 --vary --vary_name demo`"
   ]
  },
  {
   "cell_type": "code",
   "execution_count": 16,
   "metadata": {},
   "outputs": [],
   "source": [
    "exp_dir = os.path.abspath(os.path.join(\n",
    "    '..', 'Experiments', 'ExampleExperiment', 'V0'))\n",
    "var_name = 'demo'\n",
    "unpack.unpack_parameter_vary(exp_dir, var_name)"
   ]
  },
  {
   "cell_type": "markdown",
   "metadata": {},
   "source": [
    "## Input dictionary structure"
   ]
  },
  {
   "cell_type": "markdown",
   "metadata": {},
   "source": [
    "The input dictionary `unpack.vary_inputs` is, again, layered, and follows the telescope/camera/channel path of the varied parameter inputs. The lowest-level dictionary's keys are defined by an underscore-delimited string of the column entries (empty column entries are omitted from the string key) for each swept parameter in `BoloCalc/config/paramsToVary.txt`. Below a printout of the `unpack.vary_inputs` dictionary keys and values"
   ]
  },
  {
   "cell_type": "code",
   "execution_count": 17,
   "metadata": {},
   "outputs": [
    {
     "name": "stdout",
     "output_type": "stream",
     "text": [
      "\n",
      "Cam_2_Psat:  [ 5.  5.  5.  5.  5.  5. 10. 10. 10. 10. 10. 10. 15. 15. 15. 15. 15. 15.\n",
      " 20. 20. 20. 20. 20. 20. 25. 25. 25. 25. 25. 25. 30. 30. 30. 30. 30. 30.]\n",
      "\n",
      "Cam_2_Det Eff:  [0.2 0.3 0.4 0.5 0.6 0.7 0.2 0.3 0.4 0.5 0.6 0.7 0.2 0.3 0.4 0.5 0.6 0.7\n",
      " 0.2 0.3 0.4 0.5 0.6 0.7 0.2 0.3 0.4 0.5 0.6 0.7 0.2 0.3 0.4 0.5 0.6 0.7]\n"
     ]
    }
   ],
   "source": [
    "for k in unpack.vary_inputs['V0']['Tel']['Cam'].keys():\n",
    "    print(\"\\n%s: \" % (k), unpack.vary_inputs['V0']['Tel']['Cam'][k])"
   ]
  },
  {
   "cell_type": "markdown",
   "metadata": {},
   "source": [
    "## Output dictionary structure"
   ]
  },
  {
   "cell_type": "markdown",
   "metadata": {},
   "source": [
    "The output dictionary structure for parameter sweeps is similar to that of the sensitivity output dictionary structure, except that sensitivity outputs are not combined at the telescope and experiment levels: the sensitivity values are only available at the camera level. Therefore, the output dictionary is organized into the following format\n",
    "\n",
    "**There are two types of vary outputs**:\n",
    "1. `\"Summary\"`: Sensitivity summary data, which is a three-element array of `[median, high spread, low spread]`, where the percentiles defined in `BoloCalc/config/simulationInputs.txt` = `[low CL, high CL]` are defined by `[median - low spread, median + high spread]`\n",
    "2. `\"All\"`: All MC data, which is an array of calculated outputs for every MC realization\n",
    "\n",
    "**The sensitivity data is embedded in the layered dictionary** `unpack.sens_outputs`, which has four levels:\n",
    "\n",
    "1. First-layer key = experiment (e.g. `\"V0\"`)\n",
    "2. Second-layer keys = telescopes (e.g. `\"Tel\"`)\n",
    "3. Third-layer keys = cameras (e.g. `\"Cam\"`)\n",
    "4. Fourth-layer key = camera sensitivity summary `\"Summary\"` or all MC outputs `\"All\"`"
   ]
  },
  {
   "cell_type": "markdown",
   "metadata": {},
   "source": [
    "The `\"Summary\"` data is stored as `[median, high spread, low spread]` arrays for every parameter set in each channel's dictionary, while the `\"All\"` data is stored as arrays of the ouput for every simulation for every parameter set in each channel's dictionary. \n",
    "\n",
    "Below is a printout of the dictionary and data structure for the parametre variation outputs. For this particular simulation, we ran 1,000 MC realizations for 36 parameter combinations."
   ]
  },
  {
   "cell_type": "code",
   "execution_count": 18,
   "metadata": {},
   "outputs": [
    {
     "name": "stdout",
     "output_type": "stream",
     "text": [
      "Keys at each camera level\n",
      "['Summary', 'All']\n",
      "\n",
      "Channel keys in both the 'Summary' and 'All' dictionaries\n",
      "['Cam_2']\n",
      "\n",
      "Data shape for both the 'Summary' and 'All' sensitivity parameters\n"
     ]
    },
    {
     "ename": "KeyError",
     "evalue": "'Cam_1'",
     "output_type": "error",
     "traceback": [
      "\u001b[0;31m---------------------------------------------------------------------------\u001b[0m",
      "\u001b[0;31mKeyError\u001b[0m                                  Traceback (most recent call last)",
      "\u001b[0;32m<ipython-input-18-f002f8b28a01>\u001b[0m in \u001b[0;36m<module>\u001b[0;34m\u001b[0m\n\u001b[1;32m      8\u001b[0m       \"'All' sensitivity parameters\")\n\u001b[1;32m      9\u001b[0m print(\"Summary:\", np.shape(unpack.vary_outputs['V0'][\n\u001b[0;32m---> 10\u001b[0;31m     'Tel']['Cam']['Summary']['Cam_1']['Optical Power']))\n\u001b[0m\u001b[1;32m     11\u001b[0m print(\"All:\", np.shape(unpack.vary_outputs['V0'][\n\u001b[1;32m     12\u001b[0m     'Tel']['Cam']['All']['Cam_1']['Optical Power']))\n",
      "\u001b[0;31mKeyError\u001b[0m: 'Cam_1'"
     ]
    }
   ],
   "source": [
    "print(\"Keys at each camera level\")\n",
    "print(list(unpack.vary_outputs['V0']['Tel']['Cam'].keys()))\n",
    "print(\"\\nChannel keys in both the 'Summary' \"\n",
    "      \"and 'All' dictionaries\")\n",
    "print(list(unpack.vary_outputs['V0']['Tel'][\n",
    "    'Cam']['All'].keys()))\n",
    "print(\"\\nData shape for both the 'Summary' and \"\n",
    "      \"'All' sensitivity parameters\")\n",
    "print(\"Summary:\", np.shape(unpack.vary_outputs['V0'][\n",
    "    'Tel']['Cam']['Summary']['Cam_1']['Optical Power']))\n",
    "print(\"All:\", np.shape(unpack.vary_outputs['V0'][\n",
    "    'Tel']['Cam']['All']['Cam_1']['Optical Power']))"
   ]
  },
  {
   "cell_type": "markdown",
   "metadata": {},
   "source": [
    "## Example parameter variation plots"
   ]
  },
  {
   "cell_type": "markdown",
   "metadata": {},
   "source": [
    "Typically, users want to show how an output parameter depends on combinations of output parameters. Below, we show a few common plots that folks generate when sweeping over parameters in BoloCalc."
   ]
  },
  {
   "cell_type": "markdown",
   "metadata": {},
   "source": [
    "### Detector NET overplot"
   ]
  },
  {
   "cell_type": "code",
   "execution_count": null,
   "metadata": {},
   "outputs": [],
   "source": [
    "# Unpack the input parameters\n",
    "cam_2_psat = unpack.vary_inputs['V0']['Tel'][\n",
    "    'Cam']['Cam_2_Psat']\n",
    "cam_2_detEff = unpack.vary_inputs['V0']['Tel'][\n",
    "    'Cam']['Cam_2_Det Eff']\n",
    "\n",
    "# Unpack the summary outputs\n",
    "cam_2_net = unpack.vary_outputs['V0']['Tel']['Cam'][\n",
    "    'Summary']['Cam_2']['Detector NET_CMB']"
   ]
  },
  {
   "cell_type": "code",
   "execution_count": null,
   "metadata": {},
   "outputs": [],
   "source": [
    "# Reshape the arrays\n",
    "cam_2_psat_unique = np.unique(cam_2_psat)\n",
    "cam_2_detEff_unique = np.unique(cam_2_detEff)\n",
    "cam_2_net_shaped = np.reshape(\n",
    "    cam_2_net, (len(cam_2_psat_unique),\n",
    "                len(cam_2_detEff_unique), -1))"
   ]
  },
  {
   "cell_type": "code",
   "execution_count": null,
   "metadata": {},
   "outputs": [],
   "source": [
    "# Overplot the median and spreads as shaded regions\n",
    "plt.figure(figsize=figsize)\n",
    "for i, psat in enumerate(cam_2_psat_unique):\n",
    "    xarr = cam_2_detEff_unique\n",
    "    med, hi, lo = cam_2_net_shaped[i].T\n",
    "    p1 = plt.plot(xarr, med, linewidth=4, linestyle='-',\n",
    "                  label=\"%d\" % (psat))\n",
    "    plt.fill_between(xarr, med-lo, med+hi,\n",
    "                     color=p1[0].get_color(), linewidth=0, alpha=0.2)\n",
    "plt.xlabel(\"Detector Efficiency\")\n",
    "plt.ylabel(\"Detector NET [$\\mathrm{\\mu K \\sqrt{s}}$]\")\n",
    "plt.ylim(top=2000, bottom=0)\n",
    "leg = plt.legend(title=\"Psat [pW]\")\n",
    "plt.setp(leg.get_title(), fontsize=26)\n",
    "plt.show()"
   ]
  },
  {
   "cell_type": "markdown",
   "metadata": {},
   "source": [
    "### Detector NEP violin plot"
   ]
  },
  {
   "cell_type": "code",
   "execution_count": 19,
   "metadata": {},
   "outputs": [
    {
     "ename": "NameError",
     "evalue": "name 'cam_2_psat_unique' is not defined",
     "output_type": "error",
     "traceback": [
      "\u001b[0;31m---------------------------------------------------------------------------\u001b[0m",
      "\u001b[0;31mNameError\u001b[0m                                 Traceback (most recent call last)",
      "\u001b[0;32m<ipython-input-19-16b962bd2384>\u001b[0m in \u001b[0;36m<module>\u001b[0;34m\u001b[0m\n\u001b[1;32m      5\u001b[0m \u001b[0;31m# Reshape output array\u001b[0m\u001b[0;34m\u001b[0m\u001b[0;34m\u001b[0m\u001b[0;34m\u001b[0m\u001b[0m\n\u001b[1;32m      6\u001b[0m cam_2_nep_shaped = np.reshape(\n\u001b[0;32m----> 7\u001b[0;31m     cam_2_nep, (len(cam_2_psat_unique),\n\u001b[0m\u001b[1;32m      8\u001b[0m                 len(cam_2_detEff_unique), -1))\n",
      "\u001b[0;31mNameError\u001b[0m: name 'cam_2_psat_unique' is not defined"
     ]
    }
   ],
   "source": [
    "# Unpack the all MC outputs\n",
    "cam_2_nep = unpack.vary_outputs['V0']['Tel']['Cam'][\n",
    "    'All']['Cam_2']['Detector NEP']\n",
    "\n",
    "# Reshape output array\n",
    "cam_2_nep_shaped = np.reshape(\n",
    "    cam_2_nep, (len(cam_2_psat_unique),\n",
    "                len(cam_2_detEff_unique), -1))"
   ]
  },
  {
   "cell_type": "code",
   "execution_count": 20,
   "metadata": {},
   "outputs": [
    {
     "ename": "NameError",
     "evalue": "name 'cam_2_nep_shaped' is not defined",
     "output_type": "error",
     "traceback": [
      "\u001b[0;31m---------------------------------------------------------------------------\u001b[0m",
      "\u001b[0;31mNameError\u001b[0m                                 Traceback (most recent call last)",
      "\u001b[0;32m<ipython-input-20-15c7e8bb45dd>\u001b[0m in \u001b[0;36m<module>\u001b[0;34m\u001b[0m\n\u001b[1;32m      1\u001b[0m \u001b[0;31m# Convert to long-form data\u001b[0m\u001b[0;34m\u001b[0m\u001b[0;34m\u001b[0m\u001b[0;34m\u001b[0m\u001b[0m\n\u001b[0;32m----> 2\u001b[0;31m \u001b[0mnsim\u001b[0m \u001b[0;34m=\u001b[0m \u001b[0mnp\u001b[0m\u001b[0;34m.\u001b[0m\u001b[0mshape\u001b[0m\u001b[0;34m(\u001b[0m\u001b[0mcam_2_nep_shaped\u001b[0m\u001b[0;34m)\u001b[0m\u001b[0;34m[\u001b[0m\u001b[0;34m-\u001b[0m\u001b[0;36m1\u001b[0m\u001b[0;34m]\u001b[0m\u001b[0;34m\u001b[0m\u001b[0;34m\u001b[0m\u001b[0m\n\u001b[0m\u001b[1;32m      3\u001b[0m \u001b[0mxarr\u001b[0m \u001b[0;34m=\u001b[0m \u001b[0mnp\u001b[0m\u001b[0;34m.\u001b[0m\u001b[0mrepeat\u001b[0m\u001b[0;34m(\u001b[0m\u001b[0mcam_2_detEff\u001b[0m\u001b[0;34m,\u001b[0m \u001b[0mnsim\u001b[0m\u001b[0;34m)\u001b[0m\u001b[0;34m\u001b[0m\u001b[0;34m\u001b[0m\u001b[0m\n\u001b[1;32m      4\u001b[0m \u001b[0mzarr\u001b[0m \u001b[0;34m=\u001b[0m \u001b[0mnp\u001b[0m\u001b[0;34m.\u001b[0m\u001b[0mrepeat\u001b[0m\u001b[0;34m(\u001b[0m\u001b[0mcam_2_psat\u001b[0m\u001b[0;34m,\u001b[0m \u001b[0mnsim\u001b[0m\u001b[0;34m)\u001b[0m\u001b[0;34m\u001b[0m\u001b[0;34m\u001b[0m\u001b[0m\n\u001b[1;32m      5\u001b[0m \u001b[0myarr\u001b[0m \u001b[0;34m=\u001b[0m \u001b[0mcam_2_nep\u001b[0m\u001b[0;34m.\u001b[0m\u001b[0mflatten\u001b[0m\u001b[0;34m(\u001b[0m\u001b[0;34m)\u001b[0m\u001b[0;34m\u001b[0m\u001b[0;34m\u001b[0m\u001b[0m\n",
      "\u001b[0;31mNameError\u001b[0m: name 'cam_2_nep_shaped' is not defined"
     ]
    }
   ],
   "source": [
    "# Convert to long-form data\n",
    "nsim = np.shape(cam_2_nep_shaped)[-1]\n",
    "xarr = np.repeat(cam_2_detEff, nsim)\n",
    "zarr = np.repeat(cam_2_psat, nsim)\n",
    "yarr = cam_2_nep.flatten()\n",
    "# Select a subset of Psat values\n",
    "psat_vals = [10, 20]\n",
    "args = np.array([np.argwhere(zarr == p)\n",
    "                 for p in psat_vals]).flatten()\n",
    "xarr = np.take(xarr, args)\n",
    "yarr = np.take(yarr, args)\n",
    "zarr = np.take(zarr, args)\n",
    "\n",
    "plt.figure(figsize=figsize)\n",
    "sns.violinplot(xarr, yarr, hue=zarr, linewidth=4,\n",
    "               linestyle='-', label=\"%d\" % (psat), split=True)\n",
    "plt.xlabel(\"Detector Efficiency\")\n",
    "plt.ylabel(\"Detector NEP [$\\mathrm{aW / \\sqrt{Hz}}$]\")\n",
    "leg = plt.legend(title=\"Psat [pW]\")\n",
    "plt.setp(leg.get_title(),fontsize=26)\n",
    "plt.show()"
   ]
  },
  {
   "cell_type": "markdown",
   "metadata": {},
   "source": [
    "# Analyzing optical power"
   ]
  },
  {
   "cell_type": "markdown",
   "metadata": {},
   "source": [
    "As part of its sensitivity calcultion, BoloCalc generates a file at the camera level called (in the Example Experiment) `ExampleExperiment/Tel/Cam/optical_power.txt` that shows how optical power propagates through the optical stack defined in `Cam/config/optics.txt`. To acces this data, use the unpack function `unpack.unpack_optical_powers(experiment_directory)`, where in a similar way to with sensitivity unpacking, `experiment_direcotory` is the directory passed to `calc_bolos.py`. Below is an example for unpacking the example experiment."
   ]
  },
  {
   "cell_type": "code",
   "execution_count": 21,
   "metadata": {},
   "outputs": [],
   "source": [
    "exp_dir = os.path.abspath(os.path.join(\n",
    "    '..', 'Experiments', 'ExampleExperiment', 'V0'))\n",
    "unpack.unpack_optical_powers(exp_dir)"
   ]
  },
  {
   "cell_type": "markdown",
   "metadata": {},
   "source": [
    "## Example optical power tables"
   ]
  },
  {
   "cell_type": "markdown",
   "metadata": {},
   "source": [
    "The most common use for the optical power outputs is to generate a table of a similar format to that viewed in `optical_power.txt`. The below example code shows how one might generate iPython-friendly optical power tables for the two channels in the Example Experiment."
   ]
  },
  {
   "cell_type": "code",
   "execution_count": 22,
   "metadata": {},
   "outputs": [
    {
     "name": "stdout",
     "output_type": "stream",
     "text": [
      "Copy and paste the below into a separate markdown cell to render the table\n",
      "\n",
      "\n",
      "Element|Power from Sky|Power to Detector|Efficiency|Cumulative Efficiency\n",
      "---|---|---|---|---\n",
      "Units|[pW]|[NA]|[NA]|[NA]\n",
      "CMB|0|0.058 +/- (0.011, 0.01)|1|0.12 +/- (0.021, 0.021)\n",
      "ATM|0.497 +/- (0.026, 0)|0.454 +/- (0.093, 0.086)|0.967 +/- (0.002, 0.001)|0.124 +/- (0.022, 0.021)\n",
      "Primary|4.255 +/- (0.28, 0.295)|0.179 +/- (0.035, 0.031)|0.988|0.126 +/- (0.022, 0.022)\n",
      "Mirror|5.64 +/- (0.321, 0.291)|0.03 +/- (0.006, 0.005)|0.998|0.126 +/- (0.022, 0.022)\n",
      "Window|5.868 +/- (0.328, 0.291)|0.077 +/- (0.015, 0.014)|0.97 +/- (0.002, 0.002)|0.13 +/- (0.023, 0.022)\n",
      "IRShader1|6.277 +/- (0.33, 0.259)|0.016 +/- (0.003, 0.003)|0.999|0.13 +/- (0.023, 0.022)\n",
      "IRShader2|6.396 +/- (0.335, 0.26)|0.014 +/- (0.003, 0.002)|0.999|0.13 +/- (0.023, 0.022)\n",
      "IRShader3|6.497 +/- (0.338, 0.26)|0.011 +/- (0.002, 0.002)|0.999|0.13 +/- (0.023, 0.022)\n",
      "AbsFilter|6.578 +/- (0.343, 0.259)|0.046 +/- (0.009, 0.008)|0.97|0.134 +/- (0.023, 0.023)\n",
      "LowPass1|6.724 +/- (0.343, 0.254)|0.024 +/- (0.005, 0.004)|0.941|0.142 +/- (0.025, 0.025)\n",
      "Lens1|6.491 +/- (0.328, 0.239)|0.008 +/- (0.002, 0.003)|0.938 +/- (0.009, 0.012)|0.151 +/- (0.025, 0.025)\n",
      "LowPass2|6.138 +/- (0.313, 0.221)|0.002|0.941|0.161 +/- (0.027, 0.027)\n",
      "Lens2|5.783 +/- (0.295, 0.208)|0|0.99|0.162 +/- (0.027, 0.027)\n",
      "Aperture|5.727 +/- (0.292, 0.206)|0.092 +/- (0.018, 0.015)|0.309 +/- (0.001, 0.001)|0.525 +/- (0.088, 0.088)\n",
      "LowPass3|1.87 +/- (0.082, 0.06)|0.001|0.941|0.559 +/- (0.093, 0.093)\n",
      "Lens3|1.762 +/- (0.077, 0.056)|0.001|0.99|0.564 +/- (0.094, 0.094)\n",
      "LowPass4|1.745 +/- (0.076, 0.055)|0.001|0.941|0.6 +/- (0.1, 0.1)\n",
      "Detector|1.643 +/- (0.072, 0.052)|0|0.6 +/- (0.1, 0.1)|1\n",
      "\n"
     ]
    }
   ],
   "source": [
    "# Load channel Cam_1\n",
    "pwr_dict = unpack.pwr_outputs['V0']['Tel']['Cam']['Summary']['Cam_1']\n",
    "\n",
    "# Build table\n",
    "param_row = ['Element'] + list(list(pwr_dict.items())[0][1].keys())\n",
    "unit_row = ['Units', '[pW]', '[NA]', '[NA]', '[NA]']\n",
    "header_sep = ['---'] * len(param_row)\n",
    "data_rows = []\n",
    "for k, v in pwr_dict.items():\n",
    "    vals = []\n",
    "    for kk, vv in v.items():\n",
    "        ss = spread(vv)\n",
    "        vals.append(ss)\n",
    "    data_rows.append([k] + vals)\n",
    "\n",
    "# Generate table string\n",
    "table_rows = [param_row, header_sep, unit_row]  + data_rows\n",
    "table_str = \"\"\n",
    "for row in table_rows:\n",
    "    row_str = '|'.join(row)+'\\n'\n",
    "    table_str += row_str\n",
    "print(\"Copy and paste the below into a separate markdown \"\n",
    "      \"cell to render the table\\n\\n\")\n",
    "print(table_str)"
   ]
  },
  {
   "cell_type": "markdown",
   "metadata": {},
   "source": [
    "Element|Power from Sky|Power to Detector|Efficiency|Cumulative Efficiency\n",
    "---|---|---|---|---\n",
    "Units|[pW]|[NA]|[NA]|[NA]\n",
    "CMB|0|0.058 +/- (0.011, 0.01)|1|0.12 +/- (0.021, 0.021)\n",
    "ATM|0.497 +/- (0.026, 0)|0.454 +/- (0.093, 0.086)|0.967 +/- (0.002, 0.001)|0.124 +/- (0.022, 0.021)\n",
    "Primary|4.255 +/- (0.28, 0.295)|0.179 +/- (0.035, 0.031)|0.988|0.126 +/- (0.022, 0.022)\n",
    "Mirror|5.64 +/- (0.321, 0.291)|0.03 +/- (0.006, 0.005)|0.998|0.126 +/- (0.022, 0.022)\n",
    "Window|5.868 +/- (0.328, 0.291)|0.077 +/- (0.015, 0.014)|0.97 +/- (0.002, 0.002)|0.13 +/- (0.023, 0.022)\n",
    "IRShader1|6.277 +/- (0.33, 0.259)|0.016 +/- (0.003, 0.003)|0.999|0.13 +/- (0.023, 0.022)\n",
    "IRShader2|6.396 +/- (0.335, 0.26)|0.014 +/- (0.003, 0.002)|0.999|0.13 +/- (0.023, 0.022)\n",
    "IRShader3|6.497 +/- (0.338, 0.26)|0.011 +/- (0.002, 0.002)|0.999|0.13 +/- (0.023, 0.022)\n",
    "AbsFilter|6.578 +/- (0.343, 0.259)|0.046 +/- (0.009, 0.008)|0.97|0.134 +/- (0.023, 0.023)\n",
    "LowPass1|6.724 +/- (0.343, 0.254)|0.024 +/- (0.005, 0.004)|0.941|0.142 +/- (0.025, 0.025)\n",
    "Lens1|6.491 +/- (0.328, 0.239)|0.008 +/- (0.002, 0.003)|0.938 +/- (0.009, 0.012)|0.151 +/- (0.025, 0.025)\n",
    "LowPass2|6.138 +/- (0.313, 0.221)|0.002|0.941|0.161 +/- (0.027, 0.027)\n",
    "Lens2|5.783 +/- (0.295, 0.208)|0|0.99|0.162 +/- (0.027, 0.027)\n",
    "Aperture|5.727 +/- (0.292, 0.206)|0.092 +/- (0.018, 0.015)|0.309 +/- (0.001, 0.001)|0.525 +/- (0.088, 0.088)\n",
    "LowPass3|1.87 +/- (0.082, 0.06)|0.001|0.941|0.559 +/- (0.093, 0.093)\n",
    "Lens3|1.762 +/- (0.077, 0.056)|0.001|0.99|0.564 +/- (0.094, 0.094)\n",
    "LowPass4|1.745 +/- (0.076, 0.055)|0.001|0.941|0.6 +/- (0.1, 0.1)\n",
    "Detector|1.643 +/- (0.072, 0.052)|0|0.6 +/- (0.1, 0.1)|1"
   ]
  },
  {
   "cell_type": "code",
   "execution_count": 131,
   "metadata": {},
   "outputs": [
    {
     "name": "stdout",
     "output_type": "stream",
     "text": [
      "Copy and paste the below into a separate markdown cell to render the table\n",
      "\n",
      "\n",
      "Element|Power from Sky|Power to Detector|Efficiency|Cumulative Efficiency\n",
      "---|---|---|---|---\n",
      "Units|[pW]|[NA]|[NA]|[NA]\n",
      "CMB|0|0.077|1|0.224\n",
      "ATM|0.209|1.103|0.971|0.231\n",
      "Primary|3.043|0.589|0.985|0.235\n",
      "Mirror|4.504|0.197|0.995|0.236\n",
      "Window|4.984|3.482|0.903|0.261\n",
      "IRShader1|12.5|0.047|0.999|0.261\n",
      "IRShader2|12.595|0.039|0.999|0.262\n",
      "IRShader3|12.672|0.032|0.999|0.262\n",
      "AbsFilter|12.733|0.128|0.97|0.27\n",
      "LowPass1|12.639|0.065|0.941|0.287\n",
      "Lens1|12.023|0.016|0.935|0.307\n",
      "LowPass2|11.277|0.003|0.941|0.326\n",
      "Lens2|10.611|0|0.985|0.331\n",
      "Aperture|10.453|0.026|0.634|0.523\n",
      "LowPass3|6.662|0.001|0.941|0.556\n",
      "Lens3|6.267|0.001|0.985|0.564\n",
      "LowPass4|6.174|0|0.941|0.6\n",
      "Detector|5.807|0|0.6|1\n",
      "\n"
     ]
    }
   ],
   "source": [
    "# Load channel Cam_1\n",
    "pwr_dict = unpack.pwr_outputs['V0']['Tel']['Cam']['Summary']['Cam_2']\n",
    "\n",
    "# Build table\n",
    "param_row = ['Element'] + list(list(pwr_dict.items())[0][1].keys())\n",
    "unit_row = ['Units', '[pW]', '[NA]', '[NA]', '[NA]']\n",
    "header_sep = ['---'] * len(param_row)\n",
    "data_rows = []\n",
    "for k, v in pwr_dict.items():\n",
    "    vals = []\n",
    "    for kk, vv in v.items():\n",
    "        ss = spread(vv)\n",
    "        vals.append(ss)\n",
    "    data_rows.append([k] + vals)\n",
    "\n",
    "# Generate table string\n",
    "table_rows = [param_row, header_sep, unit_row]  + data_rows\n",
    "table_str = \"\"\n",
    "for row in table_rows:\n",
    "    row_str = '|'.join(row)+'\\n'\n",
    "    table_str += row_str\n",
    "print(\"Copy and paste the below into a separate markdown \"\n",
    "      \"cell to render the table\\n\\n\")\n",
    "print(table_str)"
   ]
  },
  {
   "cell_type": "markdown",
   "metadata": {},
   "source": [
    "Element|Power from Sky|Power to Detector|Efficiency|Cumulative Efficiency\n",
    "---|---|---|---|---\n",
    "Units|[pW]|[NA]|[NA]|[NA]\n",
    "CMB|0|0.077|1|0.224\n",
    "ATM|0.209|1.103|0.971|0.231\n",
    "Primary|3.043|0.589|0.985|0.235\n",
    "Mirror|4.504|0.197|0.995|0.236\n",
    "Window|4.984|3.482|0.903|0.261\n",
    "IRShader1|12.5|0.047|0.999|0.261\n",
    "IRShader2|12.595|0.039|0.999|0.262\n",
    "IRShader3|12.672|0.032|0.999|0.262\n",
    "AbsFilter|12.733|0.128|0.97|0.27\n",
    "LowPass1|12.639|0.065|0.941|0.287\n",
    "Lens1|12.023|0.016|0.935|0.307\n",
    "LowPass2|11.277|0.003|0.941|0.326\n",
    "Lens2|10.611|0|0.985|0.331\n",
    "Aperture|10.453|0.026|0.634|0.523\n",
    "LowPass3|6.662|0.001|0.941|0.556\n",
    "Lens3|6.267|0.001|0.985|0.564\n",
    "LowPass4|6.174|0|0.941|0.6\n",
    "Detector|5.807|0|0.6|1"
   ]
  },
  {
   "cell_type": "code",
   "execution_count": null,
   "metadata": {},
   "outputs": [],
   "source": []
  }
 ],
 "metadata": {
  "kernelspec": {
   "display_name": "Python 3",
   "language": "python",
   "name": "python3"
  },
  "language_info": {
   "codemirror_mode": {
    "name": "ipython",
    "version": 3
   },
   "file_extension": ".py",
   "mimetype": "text/x-python",
   "name": "python",
   "nbconvert_exporter": "python",
   "pygments_lexer": "ipython3",
   "version": "3.7.3"
  }
 },
 "nbformat": 4,
 "nbformat_minor": 2
}
